{
 "cells": [
  {
   "cell_type": "code",
   "execution_count": 50,
   "id": "03f6468c",
   "metadata": {},
   "outputs": [],
   "source": [
    "# Implementing KNN from scratch.\n",
    "# As of KNN doesnt have any training Phase.\n",
    "\n",
    "from scipy.stats import mode\n",
    "import numpy as np\n",
    "import pandas as pd\n",
    "from scipy.spatial.distance import euclidean\n",
    "\n",
    "class K_NearestNeighbours():\n",
    "    '''This class implements the KNN from scratch.\n",
    "    The parameters takes by this class is n_neighbours , distance_metric.\n",
    "    Information regarding the Parameter:\n",
    "    \n",
    "    n_neighbours --> No of Nearest Neighbours to take.\n",
    "    distance_metric --> We are taking two types of Distance metric i.e ['Eucledian', 'Manhattan']\n",
    "    '''    \n",
    "    \n",
    "    def __init__(self, n_neighbours=1, distance_metric = 'Eucledian'):\n",
    "        '''INITIALIZING the Parameters with the parametric Values.'''\n",
    "        self.n_neighbours = n_neighbours\n",
    "        self.metric = distance_metric\n",
    "        \n",
    "    def fit(self, X, y):\n",
    "        ''' The function is used to fit the data But as of KNN is an instance Based Learning so this fit\n",
    "        function will only store the X and y variables it will not learn.'''\n",
    "        \n",
    "        self.X = X\n",
    "        self.y = y\n",
    "        \"\"\"This is what the fit function will perform. Will be only storing X and y.\"\"\"\n",
    "        \n",
    "        return f'K_NearestNeighbours(n_neighbours={self.n_neighbours}, distance_metric={self.metric})'\n",
    "    \n",
    "    \n",
    "    def compute_eucledian(self, train_data, test_data):\n",
    "        '''Computing the distance using Eucledian distance formula.'''\n",
    "        distance = np.sqrt(np.sum((train_data-test_data)**2))\n",
    "        #distance = euclidean(train_data, test_data)\n",
    "        # print(type(train_data),type(test_data))\n",
    "        # print((np.array(train_data)-np.array(test_data))**2)\n",
    "        #print(train_data-test_data)\n",
    "        return distance \n",
    "    \n",
    "    def compute_manhattan(self, train_data,test_data):\n",
    "        \"\"\"COmpute the distance using Manhattan Distance Formula.\"\"\"\n",
    "        distance = np.sqrt(np.sum(np.abs(train_data-test_data)))\n",
    "        return distance\n",
    "    \n",
    "    def majority_vote_classifier(self,labels):\n",
    "        '''To find the Majority Votes between the labels.'''\n",
    "        labels = np.array(labels)\n",
    "        y_pred = []\n",
    "        for each_instance in labels:\n",
    "            unique , counts = np.unique(each_instance,return_counts=True)\n",
    "            unique, counts = list(unique), list(counts)\n",
    "            index = counts.index(max(counts))\n",
    "            y_pred.append(int(unique[index]))\n",
    "        return np.array(y_pred)\n",
    "        \n",
    "        \n",
    "        \n",
    "    # Now Lets make the Predict function for the model.    \n",
    "    def predict(self, x_test):\n",
    "        \"\"\"This function will predict the output labels for the test data points. \"\"\"\n",
    "        \n",
    "        labels = []\n",
    "        self.x_test = x_test\n",
    "        for test_data in self.x_test:\n",
    "            # Now I have to make the list to store the distance of the each point.\n",
    "            each_point_dist = []\n",
    "            \n",
    "            for train_data in self.X:\n",
    "                if self.metric == 'Eucledian':\n",
    "                    distance = self.compute_eucledian(train_data, test_data)\n",
    "                elif self.metric == 'Manhattan':\n",
    "                    distance = self.compute_manhattan(train_data, test_data)\n",
    "                each_point_dist.append(distance)\n",
    "            \n",
    "            # Now we have calculated the distance of each an every training point with the one of the test point. \n",
    "            each_point_dist = np.array(each_point_dist)\n",
    "            \n",
    "            # sort the array using the argsort function of numpy to store the indexes of the shortest distances \n",
    "            # so that further we can use it for the prediction on that index. \n",
    "            k_nearest_distance_index = np.argsort(each_point_dist)[:self.n_neighbours]\n",
    "            \n",
    "            # Labels at this index.\n",
    "            labels_at_this_index = self.y[k_nearest_distance_index]\n",
    "            labels.append(labels_at_this_index)\n",
    "            \n",
    "        y_pred = self.majority_vote_classifier(labels)\n",
    "        return y_pred\n",
    "    \n",
    "    def error_function(self, y_true, y_pred):\n",
    "        \"\"\"To find the Error.\"\"\"\n",
    "        error = np.mean(y_true!=y_pred)\n",
    "        return error\n",
    "    \n",
    "    def accuracy_score(self, y_true, y_pred):\n",
    "        \"\"\"To find teh accuracy score of the Model.\"\"\"\n",
    "        accuracy = np.mean(y_true==y_pred)\n",
    "        return accuracy"
   ]
  },
  {
   "cell_type": "code",
   "execution_count": 51,
   "id": "af0258ad",
   "metadata": {},
   "outputs": [],
   "source": [
    "from sklearn.metrics import accuracy_score\n",
    "from sklearn.datasets import load_iris\n",
    "from numpy.random import randint\n",
    "from sklearn.model_selection import train_test_split\n",
    " \n",
    "#Loading the Data\n",
    "iris= load_iris()\n",
    " \n",
    "# Store features matrix in X\n",
    "X= iris.data\n",
    "#Store target vector in \n",
    "y= iris.target\n",
    " \n",
    " \n",
    "#Creating the training Data\n",
    "X_train, X_test, y_train ,y_test = train_test_split(X, y, test_size=0.2, random_state=10)"
   ]
  },
  {
   "cell_type": "code",
   "execution_count": 52,
   "id": "abeee6e8",
   "metadata": {},
   "outputs": [
    {
     "data": {
      "text/plain": [
       "array([6.6, 2.9, 4.6, 1.3])"
      ]
     },
     "execution_count": 52,
     "metadata": {},
     "output_type": "execute_result"
    }
   ],
   "source": [
    "X_train[0]"
   ]
  },
  {
   "cell_type": "code",
   "execution_count": 53,
   "id": "fb7a10bb",
   "metadata": {},
   "outputs": [],
   "source": [
    "knn = K_NearestNeighbours(n_neighbours=90,distance_metric='Eucledian')"
   ]
  },
  {
   "cell_type": "code",
   "execution_count": 54,
   "id": "69ad85e8",
   "metadata": {},
   "outputs": [
    {
     "data": {
      "text/plain": [
       "'K_NearestNeighbours(n_neighbours=90, distance_metric=Eucledian)'"
      ]
     },
     "execution_count": 54,
     "metadata": {},
     "output_type": "execute_result"
    }
   ],
   "source": [
    "knn.fit(X_train, y_train)"
   ]
  },
  {
   "cell_type": "code",
   "execution_count": 55,
   "id": "fbe565ce",
   "metadata": {},
   "outputs": [],
   "source": [
    "y_pred = knn.predict(X_test)"
   ]
  },
  {
   "cell_type": "code",
   "execution_count": 56,
   "id": "f1bf556f",
   "metadata": {},
   "outputs": [
    {
     "data": {
      "text/plain": [
       "array([2, 2, 0, 2, 0, 1, 2, 1, 0, 2, 2, 2, 1, 0, 0, 2, 2, 0, 0, 0, 2, 2,\n",
       "       2, 0, 2, 0, 2, 2, 2, 2])"
      ]
     },
     "execution_count": 56,
     "metadata": {},
     "output_type": "execute_result"
    }
   ],
   "source": [
    "y_pred"
   ]
  },
  {
   "cell_type": "code",
   "execution_count": 57,
   "id": "e06c0460",
   "metadata": {},
   "outputs": [
    {
     "data": {
      "text/plain": [
       "0.6666666666666666"
      ]
     },
     "execution_count": 57,
     "metadata": {},
     "output_type": "execute_result"
    }
   ],
   "source": [
    "accuracy_score(y_test, y_pred)"
   ]
  },
  {
   "cell_type": "code",
   "execution_count": 58,
   "id": "1262af63",
   "metadata": {},
   "outputs": [
    {
     "data": {
      "text/plain": [
       "0.3333333333333333"
      ]
     },
     "execution_count": 58,
     "metadata": {},
     "output_type": "execute_result"
    }
   ],
   "source": [
    "knn.error_function(y_test,y_pred)"
   ]
  },
  {
   "cell_type": "code",
   "execution_count": 59,
   "id": "2ae0f295",
   "metadata": {},
   "outputs": [
    {
     "data": {
      "text/plain": [
       "array([0.3, 0.6, 0.2, 0. ])"
      ]
     },
     "execution_count": 59,
     "metadata": {},
     "output_type": "execute_result"
    }
   ],
   "source": [
    "X_train[0]-X_test[0]"
   ]
  },
  {
   "cell_type": "code",
   "execution_count": 60,
   "id": "5ec6ba1d",
   "metadata": {},
   "outputs": [
    {
     "data": {
      "text/plain": [
       "0.6666666666666666"
      ]
     },
     "execution_count": 60,
     "metadata": {},
     "output_type": "execute_result"
    }
   ],
   "source": [
    "knn.accuracy_score(y_test, y_pred)"
   ]
  },
  {
   "cell_type": "code",
   "execution_count": null,
   "id": "19a22824",
   "metadata": {},
   "outputs": [],
   "source": []
  }
 ],
 "metadata": {
  "kernelspec": {
   "display_name": "Python 3",
   "language": "python",
   "name": "python3"
  },
  "language_info": {
   "codemirror_mode": {
    "name": "ipython",
    "version": 3
   },
   "file_extension": ".py",
   "mimetype": "text/x-python",
   "name": "python",
   "nbconvert_exporter": "python",
   "pygments_lexer": "ipython3",
   "version": "3.8.8"
  }
 },
 "nbformat": 4,
 "nbformat_minor": 5
}
