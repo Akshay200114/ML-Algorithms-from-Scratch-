{
 "cells": [
  {
   "cell_type": "code",
   "execution_count": null,
   "id": "a9dff2bc",
   "metadata": {},
   "outputs": [],
   "source": [
    "class K_Means():\n",
    "    def __init__(self, k=2, max_iter=500):\n",
    "        self.K = k\n",
    "        \n",
    "    def fit(self,X):\n",
    "        self.X = X\n",
    "        \n",
    "        self.centroids = []\n",
    "        # Initalizing the Centroids\n",
    "        for k in range(self.X):\n",
    "            self.centroids = self.X[k]\n",
    "        \n",
    "        "
   ]
  },
  {
   "cell_type": "code",
   "execution_count": 110,
   "id": "661c68a7",
   "metadata": {},
   "outputs": [],
   "source": [
    "class K_Means:\n",
    "    def __init__(self, k=2, max_iter=500):\n",
    "        self.k = k \n",
    "        self.max_iter = max_iter\n",
    "        \n",
    "        \n",
    "    def compute_wcss(self, each_data_point_distances):\n",
    "        # to find te sum of squares of distances so that we can find the optimal cluster for this.\n",
    "        wcss = np.sum(np.square(each_data_point_distances))\n",
    "        return wcss\n",
    "\n",
    "    def fit(self,data):\n",
    "\n",
    "        self.centroids = {}\n",
    "        self.inertia_ = 0   # Initialization of the WCSS(within cluster of sum of squares.)\n",
    "        \n",
    "        for k in range(self.k):\n",
    "            # Initializing the centroids.\n",
    "            self.centroids[k+1] = data[k]\n",
    "\n",
    "        for i in range(self.max_iter):\n",
    "            self.clusters = {}\n",
    "            self.labels_=[]\n",
    "            self.each_data_points_distances=[]\n",
    "\n",
    "            for k in range(self.k):\n",
    "                self.clusters[k+1] = []\n",
    "\n",
    "            for data_points in data:\n",
    "                distances = [np.sqrt(np.sum(np.square(data_points-centroid))) for centroid in self.centroids.values()]\n",
    "                cluster = distances.index(min(distances))\n",
    "                self.labels_.append(cluster+1)\n",
    "                self.each_data_points_distances.append(distances)\n",
    "                self.clusters[cluster+1].append(data_points)\n",
    "\n",
    "            self.prev_centroids = dict(self.centroids)\n",
    "            if i<self.max_iter-1:\n",
    "                for cluster in self.clusters:\n",
    "                    self.centroids[cluster] = np.average(self.clusters[cluster],axis=0)\n",
    "            \n",
    "        self.labels_ = np.array(self.labels_)\n",
    "        self.centroids = np.array(list(self.centroids.values()))\n",
    "        \n",
    "        self.inertia_ = self.compute_wcss(self.each_data_points_distances)\n",
    "        \n",
    "        return f\"K_Means(k={self.k}, max_iter={self.max_iter})\""
   ]
  },
  {
   "cell_type": "code",
   "execution_count": 111,
   "id": "21811e6c",
   "metadata": {},
   "outputs": [],
   "source": [
    "from sklearn.metrics import accuracy_score\n",
    "from sklearn.datasets import load_iris\n",
    "from numpy.random import randint\n",
    "from sklearn.model_selection import train_test_split\n",
    "import numpy as np\n",
    "import pandas as pd\n",
    " \n",
    "#Loading the Data\n",
    "iris= load_iris()\n",
    " \n",
    "# Store features matrix in X\n",
    "X= iris.data\n",
    "#Store target vector in \n",
    "y= iris.target\n",
    " \n",
    " \n",
    "#Creating the training Data\n",
    "X_train, X_test, y_train ,y_test = train_test_split(X, y, test_size=0.2, random_state=10)"
   ]
  },
  {
   "cell_type": "code",
   "execution_count": 112,
   "id": "e7600160",
   "metadata": {},
   "outputs": [],
   "source": [
    "kmeans = K_Means(k=3)"
   ]
  },
  {
   "cell_type": "code",
   "execution_count": 113,
   "id": "905af567",
   "metadata": {},
   "outputs": [
    {
     "data": {
      "text/plain": [
       "'K_Means(k=3, max_iter=500)'"
      ]
     },
     "execution_count": 113,
     "metadata": {},
     "output_type": "execute_result"
    }
   ],
   "source": [
    "kmeans.fit(X_train)"
   ]
  },
  {
   "cell_type": "code",
   "execution_count": 114,
   "id": "a02bc73f",
   "metadata": {},
   "outputs": [
    {
     "data": {
      "text/plain": [
       "array([[5.90851064, 2.75531915, 4.38085106, 1.44680851],\n",
       "       [5.02      , 3.4425    , 1.465     , 0.25      ],\n",
       "       [6.84545455, 3.07575758, 5.73333333, 2.06666667]])"
      ]
     },
     "execution_count": 114,
     "metadata": {},
     "output_type": "execute_result"
    }
   ],
   "source": [
    "kmeans.centroids"
   ]
  },
  {
   "cell_type": "code",
   "execution_count": 115,
   "id": "428abf8b",
   "metadata": {},
   "outputs": [
    {
     "data": {
      "text/plain": [
       "{1: array([5.90851064, 2.75531915, 4.38085106, 1.44680851]),\n",
       " 2: array([5.02  , 3.4425, 1.465 , 0.25  ]),\n",
       " 3: array([6.84545455, 3.07575758, 5.73333333, 2.06666667])}"
      ]
     },
     "execution_count": 115,
     "metadata": {},
     "output_type": "execute_result"
    }
   ],
   "source": [
    "kmeans.prev_centroids"
   ]
  },
  {
   "cell_type": "code",
   "execution_count": 94,
   "id": "77a44d96",
   "metadata": {},
   "outputs": [
    {
     "data": {
      "text/plain": [
       "0.25833333333333336"
      ]
     },
     "execution_count": 94,
     "metadata": {},
     "output_type": "execute_result"
    }
   ],
   "source": [
    "from sklearn.metrics import accuracy_score\n",
    "accuracy_score(y_train, kmeans.labels_)"
   ]
  },
  {
   "cell_type": "code",
   "execution_count": 95,
   "id": "994bd589",
   "metadata": {},
   "outputs": [
    {
     "data": {
      "text/plain": [
       "array([1, 1, 2, 2, 2, 0, 2, 2, 2, 2, 0, 0, 1, 0, 1, 0, 1, 1, 2, 2, 1, 2,\n",
       "       1, 1, 1, 0, 0, 1, 0, 2, 0, 0, 2, 1, 2, 0, 2, 0, 1, 1, 0, 2, 2, 2,\n",
       "       2, 2, 0, 1, 2, 1, 0, 2, 1, 1, 0, 0, 0, 1, 2, 2, 1, 0, 0, 0, 2, 2,\n",
       "       1, 1, 2, 2, 2, 2, 1, 0, 0, 1, 0, 0, 2, 1, 0, 0, 0, 1, 0, 1, 0, 1,\n",
       "       2, 0, 1, 1, 2, 0, 2, 0, 1, 1, 2, 2, 0, 1, 2, 2, 1, 1, 2, 0, 2, 0,\n",
       "       0, 1, 0, 2, 2, 2, 1, 0, 2, 0])"
      ]
     },
     "execution_count": 95,
     "metadata": {},
     "output_type": "execute_result"
    }
   ],
   "source": [
    "y_train"
   ]
  },
  {
   "cell_type": "code",
   "execution_count": 96,
   "id": "2e993932",
   "metadata": {},
   "outputs": [
    {
     "data": {
      "text/plain": [
       "array([0, 0, 2, 0, 0, 1, 2, 2, 2, 2, 1, 1, 0, 1, 0, 1, 2, 0, 0, 2, 0, 2,\n",
       "       0, 0, 0, 1, 1, 0, 1, 2, 1, 1, 0, 0, 2, 1, 2, 1, 0, 0, 1, 2, 2, 2,\n",
       "       2, 0, 1, 0, 2, 0, 1, 2, 0, 0, 1, 1, 1, 0, 2, 2, 0, 1, 1, 1, 2, 0,\n",
       "       0, 0, 2, 2, 0, 2, 0, 1, 1, 0, 1, 1, 0, 0, 1, 1, 1, 0, 1, 0, 1, 0,\n",
       "       0, 1, 0, 0, 2, 1, 0, 1, 0, 2, 2, 2, 1, 0, 2, 2, 0, 0, 2, 1, 2, 1,\n",
       "       1, 0, 1, 2, 0, 0, 0, 1, 2, 1])"
      ]
     },
     "execution_count": 96,
     "metadata": {},
     "output_type": "execute_result"
    }
   ],
   "source": [
    "kmeans.labels_"
   ]
  },
  {
   "cell_type": "code",
   "execution_count": 63,
   "id": "75b68559",
   "metadata": {},
   "outputs": [
    {
     "data": {
      "text/plain": [
       "3252.15973525753"
      ]
     },
     "execution_count": 63,
     "metadata": {},
     "output_type": "execute_result"
    }
   ],
   "source": [
    "kmeans.inertia_"
   ]
  },
  {
   "cell_type": "code",
   "execution_count": 98,
   "id": "94f7e032",
   "metadata": {},
   "outputs": [
    {
     "name": "stderr",
     "output_type": "stream",
     "text": [
      "C:\\Users\\acer\\anaconda3\\lib\\site-packages\\seaborn\\_decorators.py:36: FutureWarning: Pass the following variables as keyword args: x, y. From version 0.12, the only valid positional argument will be `data`, and passing other arguments without an explicit keyword will result in an error or misinterpretation.\n",
      "  warnings.warn(\n"
     ]
    },
    {
     "ename": "NameError",
     "evalue": "name 'plt' is not defined",
     "output_type": "error",
     "traceback": [
      "\u001b[1;31m---------------------------------------------------------------------------\u001b[0m",
      "\u001b[1;31mNameError\u001b[0m                                 Traceback (most recent call last)",
      "\u001b[1;32m<ipython-input-98-9144dd5260c3>\u001b[0m in \u001b[0;36m<module>\u001b[1;34m\u001b[0m\n\u001b[0;32m      1\u001b[0m \u001b[1;32mimport\u001b[0m \u001b[0mseaborn\u001b[0m \u001b[1;32mas\u001b[0m \u001b[0msns\u001b[0m\u001b[1;33m\u001b[0m\u001b[1;33m\u001b[0m\u001b[0m\n\u001b[0;32m      2\u001b[0m \u001b[0msns\u001b[0m\u001b[1;33m.\u001b[0m\u001b[0mscatterplot\u001b[0m\u001b[1;33m(\u001b[0m\u001b[0mX_train\u001b[0m\u001b[1;33m[\u001b[0m\u001b[1;33m:\u001b[0m\u001b[1;33m,\u001b[0m\u001b[1;36m0\u001b[0m\u001b[1;33m]\u001b[0m\u001b[1;33m,\u001b[0m \u001b[0mX_train\u001b[0m\u001b[1;33m[\u001b[0m\u001b[1;33m:\u001b[0m\u001b[1;33m,\u001b[0m \u001b[1;36m1\u001b[0m\u001b[1;33m]\u001b[0m\u001b[1;33m,\u001b[0m \u001b[0mhue\u001b[0m\u001b[1;33m=\u001b[0m \u001b[0mkmeans\u001b[0m\u001b[1;33m.\u001b[0m\u001b[0mlabels_\u001b[0m\u001b[1;33m)\u001b[0m\u001b[1;33m\u001b[0m\u001b[1;33m\u001b[0m\u001b[0m\n\u001b[1;32m----> 3\u001b[1;33m \u001b[0mplt\u001b[0m\u001b[1;33m.\u001b[0m\u001b[0mshow\u001b[0m\u001b[1;33m(\u001b[0m\u001b[1;33m)\u001b[0m\u001b[1;33m\u001b[0m\u001b[1;33m\u001b[0m\u001b[0m\n\u001b[0m",
      "\u001b[1;31mNameError\u001b[0m: name 'plt' is not defined"
     ]
    },
    {
     "data": {
      "image/png": "[encoded data removed]",
      "text/plain": [
       "<Figure size 432x288 with 1 Axes>"
      ]
     },
     "metadata": {
      "needs_background": "light"
     },
     "output_type": "display_data"
    }
   ],
   "source": [
    "import seaborn as sns\n",
    "sns.scatterplot(X_train[:,0], X_train[:, 1], hue= kmeans.labels_)\n"
   ]
  },
  {
   "cell_type": "code",
   "execution_count": 100,
   "id": "519e71b8",
   "metadata": {},
   "outputs": [
    {
     "data": {
      "text/plain": [
       "<AxesSubplot:>"
      ]
     },
     "execution_count": 100,
     "metadata": {},
     "output_type": "execute_result"
    },
    {
     "data": {
      "image/png": "[encoded data removed]",
      "text/plain": [
       "<Figure size 432x288 with 1 Axes>"
      ]
     },
     "metadata": {
      "needs_background": "light"
     },
     "output_type": "display_data"
    }
   ],
   "source": [
    "sns.scatterplot(x=X_train[:,0], y=X_train[:, 1], hue=y_train)"
   ]
  },
  {
   "cell_type": "code",
   "execution_count": 101,
   "id": "da7a8016",
   "metadata": {},
   "outputs": [],
   "source": [
    "y_labels = kmeans.labels_"
   ]
  },
  {
   "cell_type": "code",
   "execution_count": 102,
   "id": "04f0de5d",
   "metadata": {},
   "outputs": [],
   "source": [
    "for i in range(len(y_labels)):\n",
    "    if y_labels[i]==0:\n",
    "        y_labels[i]=1\n",
    "    elif y_labels[i]==1:\n",
    "        y_labels[i]=0"
   ]
  },
  {
   "cell_type": "code",
   "execution_count": 103,
   "id": "e676defa",
   "metadata": {},
   "outputs": [
    {
     "data": {
      "text/plain": [
       "array([1, 1, 2, 1, 1, 0, 2, 2, 2, 2, 0, 0, 1, 0, 1, 0, 2, 1, 1, 2, 1, 2,\n",
       "       1, 1, 1, 0, 0, 1, 0, 2, 0, 0, 1, 1, 2, 0, 2, 0, 1, 1, 0, 2, 2, 2,\n",
       "       2, 1, 0, 1, 2, 1, 0, 2, 1, 1, 0, 0, 0, 1, 2, 2, 1, 0, 0, 0, 2, 1,\n",
       "       1, 1, 2, 2, 1, 2, 1, 0, 0, 1, 0, 0, 1, 1, 0, 0, 0, 1, 0, 1, 0, 1,\n",
       "       1, 0, 1, 1, 2, 0, 1, 0, 1, 2, 2, 2, 0, 1, 2, 2, 1, 1, 2, 0, 2, 0,\n",
       "       0, 1, 0, 2, 1, 1, 1, 0, 2, 0])"
      ]
     },
     "execution_count": 103,
     "metadata": {},
     "output_type": "execute_result"
    }
   ],
   "source": [
    "y_labels"
   ]
  },
  {
   "cell_type": "code",
   "execution_count": 104,
   "id": "0746fae5",
   "metadata": {},
   "outputs": [
    {
     "data": {
      "text/plain": [
       "0.8833333333333333"
      ]
     },
     "execution_count": 104,
     "metadata": {},
     "output_type": "execute_result"
    }
   ],
   "source": [
    "accuracy_score(y_labels, y_train)"
   ]
  },
  {
   "cell_type": "code",
   "execution_count": 121,
   "id": "e34ee433",
   "metadata": {},
   "outputs": [
    {
     "data": {
      "text/plain": [
       "array([[0.000e+00, 0.000e+00, 0.000e+00, 0.000e+00],\n",
       "       [1.600e-01, 0.000e+00, 9.000e-02, 0.000e+00],\n",
       "       [3.600e-01, 1.000e-02, 1.440e+00, 9.000e-02],\n",
       "       [6.400e-01, 1.000e-02, 2.500e-01, 1.210e+00],\n",
       "       [9.000e-02, 1.600e-01, 1.600e-01, 3.600e-01],\n",
       "       [4.000e+00, 9.000e-02, 1.024e+01, 1.210e+00],\n",
       "       [1.000e-02, 1.600e-01, 1.210e+00, 6.400e-01],\n",
       "       [9.000e-02, 9.000e-02, 1.210e+00, 1.000e+00],\n",
       "       [1.210e+00, 9.000e-02, 5.290e+00, 1.000e+00],\n",
       "       [9.000e-02, 4.000e-02, 2.500e-01, 1.000e+00],\n",
       "       [2.560e+00, 2.500e-01, 9.000e+00, 8.100e-01],\n",
       "       [2.560e+00, 3.600e-01, 9.000e+00, 4.900e-01],\n",
       "       [1.960e+00, 4.000e-02, 4.900e-01, 1.000e-02],\n",
       "       [4.410e+00, 3.600e-01, 1.089e+01, 1.000e+00],\n",
       "       [9.000e-02, 1.600e-01, 1.000e-02, 9.000e-02],\n",
       "       [1.960e+00, 1.440e+00, 9.610e+00, 1.440e+00],\n",
       "       [9.000e-02, 4.000e-02, 9.000e-02, 4.000e-02],\n",
       "       [4.900e-01, 9.000e-02, 4.000e-02, 2.500e-01],\n",
       "       [1.000e+00, 1.000e-02, 9.000e-02, 4.900e-01],\n",
       "       [1.000e-02, 1.600e-01, 1.210e+00, 1.440e+00],\n",
       "       [1.600e-01, 4.900e-01, 1.000e-02, 4.000e-02],\n",
       "       [3.600e-01, 4.900e-01, 2.250e+00, 1.440e+00],\n",
       "       [1.210e+00, 2.500e-01, 8.100e-01, 9.000e-02],\n",
       "       [3.600e-01, 0.000e+00, 1.000e-02, 4.000e-02],\n",
       "       [4.000e-02, 9.000e-02, 1.000e-02, 4.000e-02],\n",
       "       [6.400e-01, 1.210e+00, 1.156e+01, 1.210e+00],\n",
       "       [1.690e+00, 6.400e-01, 9.610e+00, 1.210e+00],\n",
       "       [2.500e-01, 0.000e+00, 1.000e-02, 1.000e-02],\n",
       "       [1.440e+00, 2.500e-01, 8.410e+00, 1.210e+00],\n",
       "       [4.000e-02, 4.000e-02, 8.100e-01, 2.500e-01],\n",
       "       [3.610e+00, 9.000e-02, 9.000e+00, 1.210e+00],\n",
       "       [4.000e+00, 4.000e-02, 9.610e+00, 1.210e+00],\n",
       "       [2.890e+00, 1.600e-01, 1.000e-02, 1.600e-01],\n",
       "       [2.250e+00, 1.600e-01, 2.560e+00, 4.000e-02],\n",
       "       [1.000e-02, 4.000e-02, 1.000e+00, 1.210e+00],\n",
       "       [2.890e+00, 4.900e-01, 1.024e+01, 1.440e+00],\n",
       "       [9.000e-02, 4.000e-02, 6.400e-01, 6.400e-01],\n",
       "       [3.240e+00, 1.000e-02, 1.024e+01, 1.000e+00],\n",
       "       [6.400e-01, 4.000e-02, 4.900e-01, 1.000e-02],\n",
       "       [3.600e-01, 4.000e-02, 2.500e-01, 9.000e-02],\n",
       "       [4.840e+00, 9.000e-02, 1.089e+01, 1.210e+00],\n",
       "       [4.000e-02, 9.000e-02, 1.690e+00, 1.000e+00],\n",
       "       [1.690e+00, 8.100e-01, 3.240e+00, 4.900e-01],\n",
       "       [1.000e-02, 1.000e-02, 8.100e-01, 2.500e-01],\n",
       "       [1.000e+00, 1.000e-02, 4.000e+00, 6.400e-01],\n",
       "       [9.000e-02, 1.000e-02, 2.500e-01, 4.000e-02],\n",
       "       [4.000e+00, 2.500e-01, 1.024e+01, 1.000e+00],\n",
       "       [8.100e-01, 9.000e-02, 1.210e+00, 9.000e-02],\n",
       "       [1.000e-02, 1.600e-01, 1.440e+00, 2.500e-01],\n",
       "       [8.100e-01, 1.000e-02, 2.500e-01, 0.000e+00],\n",
       "       [2.890e+00, 4.000e-02, 9.610e+00, 1.210e+00],\n",
       "       [4.000e-02, 1.000e-02, 1.000e+00, 6.400e-01],\n",
       "       [1.600e-01, 9.000e-02, 1.000e-02, 1.000e-02],\n",
       "       [8.100e-01, 0.000e+00, 1.600e-01, 0.000e+00],\n",
       "       [2.560e+00, 4.900e-01, 1.024e+01, 1.210e+00],\n",
       "       [1.440e+00, 1.000e+00, 8.410e+00, 8.100e-01],\n",
       "       [2.250e+00, 8.100e-01, 7.290e+00, 8.100e-01],\n",
       "       [1.440e+00, 1.000e-02, 1.000e-02, 4.000e-02],\n",
       "       [6.400e-01, 1.000e-02, 2.250e+00, 3.600e-01],\n",
       "       [9.000e-02, 0.000e+00, 1.000e+00, 2.500e-01],\n",
       "       [0.000e+00, 1.000e-02, 4.000e-02, 1.000e-02],\n",
       "       [2.560e+00, 2.500e-01, 9.610e+00, 1.210e+00],\n",
       "       [2.250e+00, 8.100e-01, 9.000e+00, 1.210e+00],\n",
       "       [2.250e+00, 3.600e-01, 1.024e+01, 1.000e+00],\n",
       "       [1.000e-02, 1.000e-02, 1.440e+00, 8.100e-01],\n",
       "       [6.400e-01, 4.000e-02, 2.500e-01, 3.600e-01],\n",
       "       [2.500e-01, 1.000e-02, 3.600e-01, 0.000e+00],\n",
       "       [1.210e+00, 2.500e-01, 6.400e-01, 4.000e-02],\n",
       "       [1.000e-02, 9.000e-02, 2.500e-01, 4.900e-01],\n",
       "       [1.000e-02, 1.000e-02, 3.600e-01, 4.900e-01],\n",
       "       [4.900e-01, 1.000e-02, 2.500e-01, 2.500e-01],\n",
       "       [2.500e-01, 9.000e-02, 1.000e+00, 1.000e-02],\n",
       "       [4.000e-02, 0.000e+00, 9.000e-02, 0.000e+00],\n",
       "       [1.960e+00, 2.500e-01, 1.024e+01, 1.210e+00],\n",
       "       [3.240e+00, 2.500e-01, 9.000e+00, 1.210e+00],\n",
       "       [1.000e+00, 4.000e-02, 1.600e-01, 0.000e+00],\n",
       "       [2.250e+00, 1.600e-01, 8.410e+00, 6.400e-01],\n",
       "       [4.000e+00, 4.900e-01, 1.296e+01, 1.210e+00],\n",
       "       [2.500e-01, 1.000e-02, 9.000e-02, 2.500e-01],\n",
       "       [2.560e+00, 3.600e-01, 1.690e+00, 9.000e-02],\n",
       "       [8.100e-01, 8.100e-01, 8.410e+00, 1.000e+00],\n",
       "       [1.960e+00, 3.600e-01, 9.610e+00, 1.210e+00],\n",
       "       [1.210e+00, 3.600e-01, 1.089e+01, 1.210e+00],\n",
       "       [2.890e+00, 2.500e-01, 1.690e+00, 9.000e-02],\n",
       "       [1.440e+00, 2.500e-01, 9.610e+00, 8.100e-01],\n",
       "       [1.000e-02, 4.000e-02, 4.000e-02, 1.000e-02],\n",
       "       [3.240e+00, 1.000e-02, 1.024e+01, 1.440e+00],\n",
       "       [1.210e+00, 1.600e-01, 3.600e-01, 0.000e+00],\n",
       "       [3.600e-01, 4.900e-01, 1.600e-01, 4.000e-02],\n",
       "       [3.240e+00, 4.000e-02, 9.000e+00, 1.210e+00],\n",
       "       [1.000e-02, 4.000e-02, 1.000e-02, 4.000e-02],\n",
       "       [6.400e-01, 9.000e-02, 3.600e-01, 1.000e-02],\n",
       "       [1.600e-01, 2.500e-01, 6.400e-01, 1.000e+00],\n",
       "       [2.560e+00, 1.000e-02, 9.000e+00, 1.210e+00],\n",
       "       [3.600e-01, 1.000e-02, 4.000e-02, 2.500e-01],\n",
       "       [5.290e+00, 1.000e-02, 1.225e+01, 1.440e+00],\n",
       "       [1.000e+00, 1.600e-01, 4.900e-01, 4.000e-02],\n",
       "       [1.000e-02, 1.000e-02, 1.600e-01, 1.600e-01],\n",
       "       [1.210e+00, 1.000e-02, 2.250e+00, 1.000e+00],\n",
       "       [9.000e-02, 2.500e-01, 1.000e+00, 1.210e+00],\n",
       "       [1.210e+00, 1.690e+00, 1.024e+01, 1.210e+00],\n",
       "       [3.600e-01, 4.900e-01, 3.600e-01, 9.000e-02],\n",
       "       [1.210e+00, 1.000e-02, 4.410e+00, 4.900e-01],\n",
       "       [4.900e-01, 0.000e+00, 2.890e+00, 2.500e-01],\n",
       "       [1.000e+00, 1.000e-02, 2.500e-01, 0.000e+00],\n",
       "       [1.000e-02, 1.000e-02, 0.000e+00, 4.000e-02],\n",
       "       [9.000e-02, 1.600e-01, 1.960e+00, 1.440e+00],\n",
       "       [1.440e+00, 1.000e+00, 1.089e+01, 8.100e-01],\n",
       "       [4.000e-02, 9.000e-02, 4.900e-01, 1.000e+00],\n",
       "       [2.560e+00, 3.600e-01, 1.089e+01, 1.000e+00],\n",
       "       [2.250e+00, 3.600e-01, 1.024e+01, 1.210e+00],\n",
       "       [2.500e-01, 1.000e-02, 1.000e-02, 1.000e-02],\n",
       "       [4.840e+00, 0.000e+00, 1.024e+01, 1.210e+00],\n",
       "       [1.000e-02, 1.000e-02, 3.600e-01, 1.000e+00],\n",
       "       [9.000e-02, 4.000e-02, 9.000e-02, 2.500e-01],\n",
       "       [8.100e-01, 1.600e-01, 1.600e-01, 4.900e-01],\n",
       "       [1.000e+00, 0.000e+00, 1.000e+00, 0.000e+00],\n",
       "       [8.100e-01, 2.250e+00, 9.610e+00, 8.100e-01],\n",
       "       [3.600e-01, 9.000e-02, 1.960e+00, 2.500e-01],\n",
       "       [2.890e+00, 4.000e-02, 9.610e+00, 1.440e+00]])"
      ]
     },
     "execution_count": 121,
     "metadata": {},
     "output_type": "execute_result"
    }
   ],
   "source": [
    "(np.square(X_train-X_train[0]))"
   ]
  },
  {
   "cell_type": "code",
   "execution_count": 120,
   "id": "68a0a17a",
   "metadata": {},
   "outputs": [
    {
     "data": {
      "text/plain": [
       "array([0.16, 0.  , 0.09, 0.  ])"
      ]
     },
     "execution_count": 120,
     "metadata": {},
     "output_type": "execute_result"
    }
   ],
   "source": [
    "np.square(X_train[1]-X_train[0])"
   ]
  },
  {
   "cell_type": "code",
   "execution_count": null,
   "id": "a7e94e9b",
   "metadata": {},
   "outputs": [],
   "source": []
  }
 ],
 "metadata": {
  "kernelspec": {
   "display_name": "Python 3",
   "language": "python",
   "name": "python3"
  },
  "language_info": {
   "codemirror_mode": {
    "name": "ipython",
    "version": 3
   },
   "file_extension": ".py",
   "mimetype": "text/x-python",
   "name": "python",
   "nbconvert_exporter": "python",
   "pygments_lexer": "ipython3",
   "version": "3.8.8"
  }
 },
 "nbformat": 4,
 "nbformat_minor": 5
}
